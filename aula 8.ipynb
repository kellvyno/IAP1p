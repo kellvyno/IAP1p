{
 "cells": [
  {
   "cell_type": "code",
   "execution_count": 16,
   "metadata": {},
   "outputs": [
    {
     "ename": "SyntaxError",
     "evalue": "invalid syntax. Perhaps you forgot a comma? (2092715289.py, line 4)",
     "output_type": "error",
     "traceback": [
      "\u001b[1;36m  Cell \u001b[1;32mIn[16], line 4\u001b[1;36m\u001b[0m\n\u001b[1;33m    print(cont (\"patinhos foram passear \\n além da montanha para passear \\n mas só\" range -1))\u001b[0m\n\u001b[1;37m                ^\u001b[0m\n\u001b[1;31mSyntaxError\u001b[0m\u001b[1;31m:\u001b[0m invalid syntax. Perhaps you forgot a comma?\n"
     ]
    }
   ],
   "source": [
    "#n patinhos foram passear, a mãe chamou porém voltaram n-1\n",
    "n= 5 \n",
    "for cont in range(n, 0, -1):\n",
    "    print(cont (\"patinhos foram passear \\n além da montanha para passear \\n mas só\" range -1))\n"
   ]
  },
  {
   "cell_type": "code",
   "execution_count": 42,
   "metadata": {},
   "outputs": [
    {
     "name": "stdout",
     "output_type": "stream",
     "text": [
      "Mariana conta 1 Mariana conta 1: é 1, é 1, é Ana viva a Mariana, viva a mariana!\n",
      "Mariana conta 2 Mariana conta 2: é [1, 2] é Ana viva a Mariana, viva a Mariana!\n",
      "Mariana conta 3 Mariana conta 3: é [1, 2, 3] é Ana viva a Mariana, viva a Mariana!\n",
      "Mariana conta 4 Mariana conta 4: é [1, 2, 3, 4] é Ana viva a Mariana, viva a Mariana!\n",
      "Mariana conta 5 Mariana conta 5: é [1, 2, 3, 4, 5] é Ana viva a Mariana, viva a Mariana!\n",
      "Mariana conta 6 Mariana conta 6: é [1, 2, 3, 4, 5, 6] é Ana viva a Mariana, viva a Mariana!\n",
      "Mariana conta 7 Mariana conta 7: é [1, 2, 3, 4, 5, 6, 7] é Ana viva a Mariana, viva a Mariana!\n",
      "Mariana conta 8 Mariana conta 8: é [1, 2, 3, 4, 5, 6, 7, 8] é Ana viva a Mariana, viva a Mariana!\n",
      "Mariana conta 9 Mariana conta 9: é [1, 2, 3, 4, 5, 6, 7, 8, 9] é Ana viva a Mariana, viva a Mariana!\n",
      "Mariana conta 10 Mariana conta 10: é [1, 2, 3, 4, 5, 6, 7, 8, 9, 10] é Ana viva a Mariana, viva a Mariana!\n"
     ]
    }
   ],
   "source": [
    "#mariana conta um: é um e um é um. mariana conta dois: é um é dois, mariana conta trÊs: é um é dois é três. \n",
    "# Número inicial\n",
    "#Reposta certa\n",
    "\n",
    "num= [1,2,3,4,5,6,7,8,9,10]\n",
    "i= 1\n",
    "for i in num:\n",
    "    if i ==1:\n",
    "        print(\"Mariana conta 1 Mariana conta 1: é 1, é 1, é Ana viva a Mariana, viva a mariana!\")\n",
    "    else:\n",
    "        print(f'Mariana conta {i} Mariana conta {i}: é' , num[0:i], 'é Ana viva a Mariana, viva a Mariana!' )"
   ]
  },
  {
   "cell_type": "code",
   "execution_count": 48,
   "metadata": {},
   "outputs": [
    {
     "name": "stdout",
     "output_type": "stream",
     "text": [
      "1 elefante incomoda muita gente\n",
      "2 elefante incomodam incomodam  muito mais\n",
      "3 elefante incomoda muita gente\n",
      "4 elefante incomodam incomodam incomodam incomodam  muito mais\n",
      "5 elefante incomoda muita gente\n",
      "6 elefante incomodam incomodam incomodam incomodam incomodam incomodam  muito mais\n",
      "7 elefante incomoda muita gente\n",
      "8 elefante incomodam incomodam incomodam incomodam incomodam incomodam incomodam incomodam  muito mais\n",
      "9 elefante incomoda muita gente\n",
      "10 elefante incomodam incomodam incomodam incomodam incomodam incomodam incomodam incomodam incomodam incomodam  muito mais\n"
     ]
    }
   ],
   "source": [
    "#um elefante incomodam muita gente, dois elefantas incomandam incomodam muito mais, três elefantes incomodam incomodam incomodam muito mais.... até 10\n",
    "#os incomodam só se repetem em números pares\n",
    "'''encontrar um numero par\n",
    "numero = int(input(\"Digite um número inteiro: \"))\n",
    "if numero % 2 == 0:\n",
    "    print(\"É par\")'''\n",
    "for x in range(1,11):\n",
    "    if x%2 == 0:\n",
    "        print(x, \"elefante\", (\"incomodam \")* x, \"muito mais\")\n",
    "    else:\n",
    "        print(x, \"elefante incomoda muita gente\")\n",
    "    "
   ]
  },
  {
   "cell_type": "code",
   "execution_count": null,
   "metadata": {},
   "outputs": [],
   "source": []
  },
  {
   "cell_type": "code",
   "execution_count": null,
   "metadata": {},
   "outputs": [],
   "source": []
  }
 ],
 "metadata": {
  "kernelspec": {
   "display_name": "Python 3",
   "language": "python",
   "name": "python3"
  },
  "language_info": {
   "codemirror_mode": {
    "name": "ipython",
    "version": 3
   },
   "file_extension": ".py",
   "mimetype": "text/x-python",
   "name": "python",
   "nbconvert_exporter": "python",
   "pygments_lexer": "ipython3",
   "version": "3.11.9"
  }
 },
 "nbformat": 4,
 "nbformat_minor": 2
}
