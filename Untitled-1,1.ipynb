{
 "cells": [
  {
   "cell_type": "code",
   "execution_count": 12,
   "metadata": {},
   "outputs": [
    {
     "name": "stdout",
     "output_type": "stream",
     "text": [
      "Seu número escolhido foi: 5\n"
     ]
    }
   ],
   "source": [
    "#pedir um número ao usurario, abrir uma aba mostrando a mensagem \"o numero digitado foi:\"\n",
    "\n",
    "numero= int(input(\"Digite um número: \"))\n",
    "print(\"Seu número escolhido foi:\" , numero)"
   ]
  },
  {
   "cell_type": "code",
   "execution_count": 14,
   "metadata": {},
   "outputs": [
    {
     "name": "stdout",
     "output_type": "stream",
     "text": [
      "O resultado da soma dos seus números é: 10\n"
     ]
    }
   ],
   "source": [
    "#pedir dois números\n",
    "#emprime a soma\n",
    "\n",
    "numero1= int(input(\"Digite um número:\"))\n",
    "numero2= int(input(\"Digite um segundo número:\"))\n",
    "soma= numero1 + numero2\n",
    "print(\"O resultado da soma dos seus números é:\" , soma)"
   ]
  },
  {
   "cell_type": "code",
   "execution_count": 15,
   "metadata": {},
   "outputs": [
    {
     "name": "stdout",
     "output_type": "stream",
     "text": [
      "A sua média é  10.0\n"
     ]
    }
   ],
   "source": [
    "#pedir 3 notas ao usuario e retornar a média\n",
    "\n",
    "nota1= int(input(\"Digite a primeira nota:\"))\n",
    "nota2= int(input(\"Digite a segunda nota:\"))\n",
    "nota3= int(input(\"Digite a terceira nota:\"))\n",
    "media= (nota1 + nota2 + nota3) / 3\n",
    "print (\"A sua média é \" , media)"
   ]
  },
  {
   "cell_type": "code",
   "execution_count": 22,
   "metadata": {},
   "outputs": [
    {
     "name": "stdout",
     "output_type": "stream",
     "text": [
      "O seu salário no deste mês de: 880.0\n"
     ]
    }
   ],
   "source": [
    "'''perguntar quanto o usuario recebe por hora trabalhada e apos isso quantas horas trabalhadas no mes,\n",
    "apos ter esses dados retornar ao usuario o salario refente ao mes referido'''\n",
    "\n",
    "valor_hora= float(input(\"Qual o valor da sua hora de trabalho?\"))\n",
    "horas_trabalhadas= float(input(\"Quantas horas você trabalhou no mês\"))\n",
    "salario= valor_hora * horas_trabalhadas\n",
    "print(\"O seu salário no deste mês de:\" , salario)\n"
   ]
  },
  {
   "cell_type": "code",
   "execution_count": 2,
   "metadata": {},
   "outputs": [
    {
     "name": "stdout",
     "output_type": "stream",
     "text": [
      "4.0\n"
     ]
    }
   ],
   "source": [
    "\"\"\"quando o peso max da pescaria é maior que 50kg, cobrar uma taxa de 4,00 (quatro reias) por kg \n",
    "fazer um programa onde leia o resultado da pesca e se existir peso a mais ja calcular a multa\"\"\"\n",
    "\n",
    "pesoPescaria= float(input(\"Qual o resultado da pescaria?\"))\n",
    "if (pesoPescaria <= 50):\n",
    "        print(\"Pescado dentro das normas\")\n",
    "else:\n",
    "     multa= (pesoPescaria - 50) * 4\n",
    "     print (multa)"
   ]
  },
  {
   "cell_type": "code",
   "execution_count": null,
   "metadata": {},
   "outputs": [],
   "source": []
  }
 ],
 "metadata": {
  "kernelspec": {
   "display_name": "Python 3",
   "language": "python",
   "name": "python3"
  },
  "language_info": {
   "codemirror_mode": {
    "name": "ipython",
    "version": 3
   },
   "file_extension": ".py",
   "mimetype": "text/x-python",
   "name": "python",
   "nbconvert_exporter": "python",
   "pygments_lexer": "ipython3",
   "version": "3.11.9"
  }
 },
 "nbformat": 4,
 "nbformat_minor": 2
}
