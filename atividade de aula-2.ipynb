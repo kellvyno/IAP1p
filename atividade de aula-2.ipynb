{
 "cells": [
  {
   "cell_type": "code",
   "execution_count": 2,
   "metadata": {},
   "outputs": [],
   "source": [
    "nome= input(\"Qual o seu nome?\")"
   ]
  },
  {
   "cell_type": "code",
   "execution_count": 2,
   "metadata": {},
   "outputs": [
    {
     "name": "stdout",
     "output_type": "stream",
     "text": [
      "kellvyn\n"
     ]
    }
   ],
   "source": [
    "print(nome)"
   ]
  },
  {
   "cell_type": "code",
   "execution_count": 6,
   "metadata": {},
   "outputs": [],
   "source": [
    "idade= int(input(\"Qual a sua idade?\"))"
   ]
  },
  {
   "cell_type": "code",
   "execution_count": 8,
   "metadata": {},
   "outputs": [],
   "source": [
    "curso= input(\"Qual o seu curso?\")"
   ]
  },
  {
   "cell_type": "code",
   "execution_count": 9,
   "metadata": {},
   "outputs": [
    {
     "name": "stdout",
     "output_type": "stream",
     "text": [
      "Olá, kellvyn Sua idade é 30 e você estuda TADS\n"
     ]
    }
   ],
   "source": [
    "print(\"Olá,\", nome, \"Sua idade é\", idade, \"e você estuda\", curso)"
   ]
  },
  {
   "cell_type": "code",
   "execution_count": 13,
   "metadata": {},
   "outputs": [
    {
     "name": "stdout",
     "output_type": "stream",
     "text": [
      "True\n",
      "False\n",
      "False\n",
      "True\n",
      "True\n"
     ]
    }
   ],
   "source": [
    "valor1= input(\"Digite um número inteiro\")\n",
    "valor2= input(\"Digite outro número inteiro\")\n",
    "#comparar se: valor1 == valor2, valor1 > valor2, valor1 < valor2, valor1 >= valor2, valor1 <= valor2. tudo isso printado\n",
    "\n",
    "print(valor1 == valor2)\n",
    "print(valor1 > valor2)\n",
    "print(valor1 < valor2)\n",
    "print(valor1 >= valor2)\n",
    "print(valor1 <= valor2)"
   ]
  },
  {
   "cell_type": "code",
   "execution_count": 15,
   "metadata": {},
   "outputs": [
    {
     "name": "stdout",
     "output_type": "stream",
     "text": [
      "True\n"
     ]
    }
   ],
   "source": [
    "senha= \"123456\"\n",
    "_senha = input(\"Digite sua senha\")\n",
    "print(senha == _senha)"
   ]
  },
  {
   "cell_type": "code",
   "execution_count": null,
   "metadata": {},
   "outputs": [],
   "source": [
    "'''conectivo de conjunção: E (and) os dois operadores precisam ser verdadeiros, no conectivo de conjunção Or um operador precisa ser verdadeiro'''\n",
    "\"\"\"conectivo de conjunção: E (and) \n",
    "conectivo de conjunção: O (or)\"\"\"\n",
    "\"\"\"no if é preciso descrever o que se deseja, já o else não porque é executado em caso contrario ao if\"\"\"\n",
    "if ():\n",
    "    print()\n",
    "else:\n",
    "    print()\n",
    "\n"
   ]
  },
  {
   "cell_type": "code",
   "execution_count": 21,
   "metadata": {},
   "outputs": [
    {
     "name": "stdout",
     "output_type": "stream",
     "text": [
      "Valor impar\n"
     ]
    }
   ],
   "source": [
    "#como saber se um número é par\n",
    "valor= int(input(\"Digite um valor\"))\n",
    "if(valor % 2 == 0):\n",
    "    print(\"Valor par\")\n",
    "else:\n",
    "    print(\"Valor ímpar\")"
   ]
  },
  {
   "cell_type": "code",
   "execution_count": 23,
   "metadata": {},
   "outputs": [
    {
     "name": "stdout",
     "output_type": "stream",
     "text": [
      "Número par\n"
     ]
    }
   ],
   "source": [
    "#como saber se um número é ímpar\n",
    "numero= int(input(\"Digite um número:\"))\n",
    "if(numero % 2 != 0):\n",
    "    print(\"Número ímpar\")\n",
    "else:\n",
    "    print(\"Número par\")"
   ]
  },
  {
   "cell_type": "code",
   "execution_count": null,
   "metadata": {},
   "outputs": [],
   "source": [
    "#utilizando input, vamos armazenar o valor digitado pelo usuário:\n",
    "cupom= input(\"Digite o cupom:\")\n",
    "#agora vamos usar operadores condicionais e desvio condicional:\n",
    "if (cupom == 'aula1' or cupom == 'aula2')\n",
    "    print('Você ganhou 10% de desconto')"
   ]
  }
 ],
 "metadata": {
  "kernelspec": {
   "display_name": "Python 3",
   "language": "python",
   "name": "python3"
  },
  "language_info": {
   "codemirror_mode": {
    "name": "ipython",
    "version": 3
   },
   "file_extension": ".py",
   "mimetype": "text/x-python",
   "name": "python",
   "nbconvert_exporter": "python",
   "pygments_lexer": "ipython3",
   "version": "3.11.8"
  }
 },
 "nbformat": 4,
 "nbformat_minor": 2
}
