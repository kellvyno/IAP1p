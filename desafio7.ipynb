{
 "cells": [
  {
   "cell_type": "code",
   "execution_count": null,
   "metadata": {},
   "outputs": [],
   "source": []
  },
  {
   "cell_type": "code",
   "execution_count": 6,
   "metadata": {},
   "outputs": [
    {
     "name": "stdout",
     "output_type": "stream",
     "text": [
      "Os números pares foram  5\n",
      "Os números ímpares foram  5\n"
     ]
    }
   ],
   "source": [
    "#façaum programa que peça 10 números inteiros, calcule e mostre a quantidade\n",
    "#números pares e a quantidade de números ímpares.\n",
    "npar= 0\n",
    "nimpar= 0 \n",
    "\n",
    "for i in range(10):\n",
    "    numero = int(input(\"Digite um número:\"))\n",
    "    if numero %2 == 0:\n",
    "        npar += 1\n",
    "    else:\n",
    "        nimpar +=1\n",
    "print(\"Os números pares foram \" , npar)\n",
    "print(\"Os números ímpares foram \" , nimpar)\n"
   ]
  },
  {
   "cell_type": "code",
   "execution_count": null,
   "metadata": {},
   "outputs": [],
   "source": []
  },
  {
   "cell_type": "code",
   "execution_count": null,
   "metadata": {},
   "outputs": [],
   "source": []
  },
  {
   "cell_type": "code",
   "execution_count": null,
   "metadata": {},
   "outputs": [],
   "source": []
  }
 ],
 "metadata": {
  "kernelspec": {
   "display_name": "Python 3",
   "language": "python",
   "name": "python3"
  },
  "language_info": {
   "codemirror_mode": {
    "name": "ipython",
    "version": 3
   },
   "file_extension": ".py",
   "mimetype": "text/x-python",
   "name": "python",
   "nbconvert_exporter": "python",
   "pygments_lexer": "ipython3",
   "version": "3.11.9"
  }
 },
 "nbformat": 4,
 "nbformat_minor": 2
}
