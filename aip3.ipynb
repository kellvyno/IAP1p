{
 "cells": [
  {
   "cell_type": "code",
   "execution_count": 16,
   "metadata": {},
   "outputs": [
    {
     "name": "stdout",
     "output_type": "stream",
     "text": [
      "o resuldado é 12.5\n"
     ]
    }
   ],
   "source": [
    "'''1) Faça um Programa que peça 2 números inteiros e um número real. Calcule e mostre:\n",
    "a)O produto do dobro do primeiro com metade do segundo.'''\n",
    " \n",
    "n1= int(input(\"Digite um valor:\"))\n",
    "n2= int(input(\"Digite um segundo valor:\"))\n",
    "n3= float(input())\n",
    "resultado= n1 * 2 + n2 / 2\n",
    "print (\"o resuldado é\" , resultado)"
   ]
  },
  {
   "cell_type": "code",
   "execution_count": 18,
   "metadata": {},
   "outputs": [
    {
     "name": "stdout",
     "output_type": "stream",
     "text": [
      "145.0\n"
     ]
    }
   ],
   "source": [
    "#b)A soma do triplo do primeiro com o terceiro. o terceiro elevado ao cubo. a3 referente a 3xa e c9 referente c ao cubo\n",
    "a3= n1 + (n1 * 3)\n",
    "c3= (n3 ** 3)\n",
    "print(a3 + c3)"
   ]
  },
  {
   "cell_type": "code",
   "execution_count": 35,
   "metadata": {},
   "outputs": [
    {
     "name": "stdout",
     "output_type": "stream",
     "text": [
      "10\n"
     ]
    }
   ],
   "source": [
    "#2) Faça um Programa que peça dois números e imprima o maior deles.\n",
    "n1= int(input(\"Digite um número:\"))\n",
    "n2= int(input(\"Digite um segundo número:\"))\n",
    "if (n1>= n2):\n",
    "    print(n1)\n",
    "else:\n",
    "    print (n2)\n",
    "\n"
   ]
  },
  {
   "cell_type": "code",
   "execution_count": null,
   "metadata": {},
   "outputs": [],
   "source": [
    "#3) Faça um Programa que peça um valor e mostre na tela se o valor é positivo ou negativo.\n"
   ]
  },
  {
   "cell_type": "code",
   "execution_count": null,
   "metadata": {},
   "outputs": [],
   "source": [
    "#4) Faça um programa para a leitura de duas notas parciais de um aluno. O programa deve calcular a média alcançada por aluno e apresentar o resultado \"Aprovado\" ou \"Reprovado\". Considere que a escola adota média 7.00.\n"
   ]
  },
  {
   "cell_type": "code",
   "execution_count": null,
   "metadata": {},
   "outputs": [],
   "source": [
    "#5)Faça um Programa que leia três números e mostre o maior deles."
   ]
  }
 ],
 "metadata": {
  "kernelspec": {
   "display_name": "Python 3",
   "language": "python",
   "name": "python3"
  },
  "language_info": {
   "codemirror_mode": {
    "name": "ipython",
    "version": 3
   },
   "file_extension": ".py",
   "mimetype": "text/x-python",
   "name": "python",
   "nbconvert_exporter": "python",
   "pygments_lexer": "ipython3",
   "version": "3.11.2"
  },
  "orig_nbformat": 4
 },
 "nbformat": 4,
 "nbformat_minor": 2
}
