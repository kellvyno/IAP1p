{
 "cells": [
  {
   "cell_type": "code",
   "execution_count": 13,
   "metadata": {},
   "outputs": [
    {
     "data": {
      "text/plain": [
       "range(1, 5)"
      ]
     },
     "execution_count": 13,
     "metadata": {},
     "output_type": "execute_result"
    }
   ],
   "source": [
    "range (1,5)\n"
   ]
  },
  {
   "cell_type": "code",
   "execution_count": 14,
   "metadata": {},
   "outputs": [],
   "source": [
    "#qual o escopo da função?\n",
    "def funcaoLeitura():\n",
    "    for num in [1,2,3,4,5]:\n",
    "        print(\"Número\", num )\n"
   ]
  },
  {
   "cell_type": "code",
   "execution_count": 15,
   "metadata": {},
   "outputs": [
    {
     "name": "stdout",
     "output_type": "stream",
     "text": [
      "Número 1\n",
      "Número 2\n",
      "Número 3\n",
      "Número 4\n",
      "Número 5\n"
     ]
    }
   ],
   "source": [
    "#quando executada a função ela trara o codigo referido\n",
    "funcaoLeitura()"
   ]
  },
  {
   "cell_type": "code",
   "execution_count": 16,
   "metadata": {},
   "outputs": [],
   "source": [
    "def funcaoLeitura():\n",
    "    for num in range (5):\n",
    "        print(\"Número\", num)"
   ]
  },
  {
   "cell_type": "code",
   "execution_count": 18,
   "metadata": {},
   "outputs": [
    {
     "name": "stdout",
     "output_type": "stream",
     "text": [
      "Número 0\n",
      "Número 1\n",
      "Número 2\n",
      "Número 3\n",
      "Número 4\n"
     ]
    }
   ],
   "source": [
    "funcaoLeitura()"
   ]
  },
  {
   "cell_type": "code",
   "execution_count": 22,
   "metadata": {},
   "outputs": [],
   "source": [
    "#função para somar dois números, numa função com parametros significa que, ao usar a função \n",
    "#ela passara pelos parametros\n",
    "def addNum(n1, n2):\n",
    "    print(\"O primeiro número é\" , n1)\n",
    "    print(\"O segundo número é\" , n2)\n",
    "    print(\"A soma dos números é\" , n1 + n2)"
   ]
  },
  {
   "cell_type": "code",
   "execution_count": 23,
   "metadata": {},
   "outputs": [
    {
     "ename": "TypeError",
     "evalue": "addNum() missing 2 required positional arguments: 'n1' and 'n2'",
     "output_type": "error",
     "traceback": [
      "\u001b[1;31m---------------------------------------------------------------------------\u001b[0m",
      "\u001b[1;31mTypeError\u001b[0m                                 Traceback (most recent call last)",
      "Cell \u001b[1;32mIn[23], line 1\u001b[0m\n\u001b[1;32m----> 1\u001b[0m \u001b[43maddNum\u001b[49m\u001b[43m(\u001b[49m\u001b[43m)\u001b[49m\n",
      "\u001b[1;31mTypeError\u001b[0m: addNum() missing 2 required positional arguments: 'n1' and 'n2'"
     ]
    }
   ],
   "source": [
    "'''não executa por não ter valores em n1 e n2, toda vez que existir um parametro numa função\n",
    "eles serão usados na execução do comondo, se não há valor nos parametros ocorrera um erro'''\n",
    "addNum()"
   ]
  },
  {
   "cell_type": "code",
   "execution_count": 24,
   "metadata": {},
   "outputs": [
    {
     "name": "stdout",
     "output_type": "stream",
     "text": [
      "O primeiro número é 4\n",
      "O segundo número é 3\n",
      "A soma dos números é 7\n"
     ]
    }
   ],
   "source": [
    "'''apos os atributos receberem valores, eles são consultados na execução do codigo. dessa forma o codigo pode ser usado em mais de um caso, já que os valores de n1 e n2 \n",
    "podem ser alterados mudando possiveis resultados da função, para um msm codigo'''\n",
    "addNum(4,3)"
   ]
  },
  {
   "cell_type": "code",
   "execution_count": 26,
   "metadata": {},
   "outputs": [
    {
     "name": "stdout",
     "output_type": "stream",
     "text": [
      "O primeiro número é 2\n",
      "O segundo número é 6\n",
      "A soma dos números é 8\n"
     ]
    }
   ],
   "source": [
    "addNum(2,6)"
   ]
  },
  {
   "cell_type": "code",
   "execution_count": 33,
   "metadata": {},
   "outputs": [
    {
     "name": "stdout",
     "output_type": "stream",
     "text": [
      "Variável da função multiplica:  20\n"
     ]
    }
   ],
   "source": [
    "varGlobal = 10 #essa é uma variável global\n",
    "def Multiplica(num1, num2):\n",
    "    varLocal = num1 * num2 #essa é uma variável\n",
    "    print(\"Variável da função multiplica: \", varLocal)\n",
    "#print(varLocal)\n",
    "Multiplica(5,4)"
   ]
  },
  {
   "cell_type": "code",
   "execution_count": 35,
   "metadata": {},
   "outputs": [
    {
     "name": "stdout",
     "output_type": "stream",
     "text": [
      "Variável da função Multiplica:  20\n",
      "10\n"
     ]
    }
   ],
   "source": [
    "'''variaveis globais e locais: variável local só existe do contexto que foi criada, sendo viavel apenas se dentro da indentaçãoo\n",
    " que a possui. já a global existe além da indentação de uma função '''\n",
    "\n",
    "varGlobal = 10 #essa é uma variável global\n",
    "def multiplicacao(num1, num2):\n",
    "    #apesar do mesmo, é uma variável local:\n",
    "    varGlobal = (num1 * num2)\n",
    "    print(\"Variável da função Multiplica: \" , varGlobal)\n",
    "\n",
    "multiplicacao(5,4)\n",
    "print(varGlobal)"
   ]
  },
  {
   "cell_type": "code",
   "execution_count": 36,
   "metadata": {},
   "outputs": [],
   "source": [
    "#nesse caso o * significa tudo ou seja todos os parametros\n",
    "def variosParametros(*parametros):\n",
    "    for n, item in enumerate(parametros):\n",
    "        print(\"Parâmetros\", n, item)\n",
    "    return\n"
   ]
  },
  {
   "cell_type": "code",
   "execution_count": 38,
   "metadata": {},
   "outputs": [
    {
     "name": "stdout",
     "output_type": "stream",
     "text": [
      "Parâmetros 0 Luqinhas\n",
      "Parâmetros 1 Máda\n",
      "Parâmetros 2 Giggio\n"
     ]
    }
   ],
   "source": [
    "variosParametros(\"Luqinhas\" , \"Máda\" , \"Giggio\")"
   ]
  },
  {
   "cell_type": "code",
   "execution_count": 39,
   "metadata": {},
   "outputs": [
    {
     "name": "stdout",
     "output_type": "stream",
     "text": [
      "Parâmetros 0 pitomba\n",
      "Parâmetros 1 manga\n",
      "Parâmetros 2 goiaba\n"
     ]
    }
   ],
   "source": [
    "variosParametros('pitomba' , 'manga', 'goiaba')"
   ]
  },
  {
   "cell_type": "code",
   "execution_count": 8,
   "metadata": {},
   "outputs": [],
   "source": [
    "def soma(n1, n2):\n",
    "    return n1 + n2\n",
    "\n",
    "def subtrai(n1, n2):\n",
    "    return n1 - n2\n",
    "\n",
    "def multi(n1, n2):\n",
    "    return n1 * n2\n",
    "\n",
    "def divide(n1, n2):\n",
    "    return n1 / n2\n"
   ]
  },
  {
   "cell_type": "code",
   "execution_count": 9,
   "metadata": {},
   "outputs": [
    {
     "name": "stdout",
     "output_type": "stream",
     "text": [
      "+==================\n",
      "|Menu de operações|\n",
      "|  1 - Somar      |\n",
      "|  2 - subtrair   |\n",
      "|  3 - multiplicar|\n",
      "|  4 - dividir    |\n",
      "|  0 - sair       |\n",
      "+=================+\n",
      "O resultado da soma é:  6\n",
      "+==================\n",
      "|Menu de operações|\n",
      "|  1 - Somar      |\n",
      "|  2 - subtrair   |\n",
      "|  3 - multiplicar|\n",
      "|  4 - dividir    |\n",
      "|  0 - sair       |\n",
      "+=================+\n",
      "O resultado da subtração é:  0\n",
      "+==================\n",
      "|Menu de operações|\n",
      "|  1 - Somar      |\n",
      "|  2 - subtrair   |\n",
      "|  3 - multiplicar|\n",
      "|  4 - dividir    |\n",
      "|  0 - sair       |\n",
      "+=================+\n"
     ]
    },
    {
     "ename": "ValueError",
     "evalue": "invalid literal for int() with base 10: ''",
     "output_type": "error",
     "traceback": [
      "\u001b[1;31m---------------------------------------------------------------------------\u001b[0m",
      "\u001b[1;31mValueError\u001b[0m                                Traceback (most recent call last)",
      "Cell \u001b[1;32mIn[9], line 11\u001b[0m\n\u001b[0;32m      8\u001b[0m \u001b[38;5;28mprint\u001b[39m(\u001b[38;5;124m\"\u001b[39m\u001b[38;5;124m|  0 - sair       |\u001b[39m\u001b[38;5;124m\"\u001b[39m)\n\u001b[0;32m      9\u001b[0m \u001b[38;5;28mprint\u001b[39m(\u001b[38;5;124m\"\u001b[39m\u001b[38;5;124m+=================+\u001b[39m\u001b[38;5;124m\"\u001b[39m)\n\u001b[1;32m---> 11\u001b[0m op \u001b[38;5;241m=\u001b[39m \u001b[38;5;28;43mint\u001b[39;49m\u001b[43m(\u001b[49m\u001b[38;5;28;43minput\u001b[39;49m\u001b[43m(\u001b[49m\u001b[43m)\u001b[49m\u001b[43m)\u001b[49m\n\u001b[0;32m     12\u001b[0m \u001b[38;5;28;01mif\u001b[39;00m op\u001b[38;5;241m==\u001b[39m\u001b[38;5;241m0\u001b[39m:\n\u001b[0;32m     13\u001b[0m     \u001b[38;5;28;01mbreak\u001b[39;00m\n",
      "\u001b[1;31mValueError\u001b[0m: invalid literal for int() with base 10: ''"
     ]
    }
   ],
   "source": [
    "while True:\n",
    "    print(\"+==================\")\n",
    "    print(\"|Menu de operações|\")\n",
    "    print(\"|  1 - Somar      |\")\n",
    "    print(\"|  2 - subtrair   |\")\n",
    "    print(\"|  3 - multiplicar|\")\n",
    "    print(\"|  4 - dividir    |\")\n",
    "    print(\"|  0 - sair       |\")\n",
    "    print(\"+=================+\")\n",
    "\n",
    "    op = int(input())\n",
    "    if op==0:\n",
    "        break\n",
    "\n",
    "    n1 = int(input(\"Primeiro número: \"))\n",
    "    n2 = int(input(\"Segundo número: \"))\n",
    "\n",
    "\n",
    "    if  op==1:\n",
    "        print(\"O resultado da soma é: \", soma(n1, n2))\n",
    "    elif op==2:\n",
    "        print(\"O resultado da subtração é: \", subtrai(n1, n2))\n",
    "    elif op==3:\n",
    "        print(\"O resultado da multiplicação é: \", multi(n1, n2))\n",
    "    elif op==4:\n",
    "        print(\"O resultado da divisão é: \", divide(n1, n2))\n",
    "    \n",
    "\n"
   ]
  },
  {
   "cell_type": "code",
   "execution_count": null,
   "metadata": {},
   "outputs": [],
   "source": [
    "#acrescentar mais operaçõese melhorar o codigo, adcionar parametros etc..."
   ]
  },
  {
   "cell_type": "code",
   "execution_count": null,
   "metadata": {},
   "outputs": [],
   "source": []
  }
 ],
 "metadata": {
  "kernelspec": {
   "display_name": "Python 3",
   "language": "python",
   "name": "python3"
  },
  "language_info": {
   "codemirror_mode": {
    "name": "ipython",
    "version": 3
   },
   "file_extension": ".py",
   "mimetype": "text/x-python",
   "name": "python",
   "nbconvert_exporter": "python",
   "pygments_lexer": "ipython3",
   "version": "3.11.9"
  }
 },
 "nbformat": 4,
 "nbformat_minor": 2
}
