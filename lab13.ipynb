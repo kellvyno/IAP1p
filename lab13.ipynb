{
 "cells": [
  {
   "cell_type": "code",
   "execution_count": null,
   "metadata": {},
   "outputs": [],
   "source": [
    "#a)O produto do dobro do primeiro com metade do segundo.\n",
    "n1= int(input(\"Digite um valor:\"))\n",
    "n2= int(input(\"Digite um segundo valor:\"))\n",
    "n3= float(input())\n",
    "resultado= n1 * 2 + n2 / 2\n",
    "print (\"o resuldado é\" , resultado)\n"
   ]
  },
  {
   "cell_type": "code",
   "execution_count": null,
   "metadata": {},
   "outputs": [],
   "source": [
    "#b)A soma do triplo do primeiro com o terceiro. o terceiro elevado ao cubo. a3 referente a 3xa e c9 referente c ao cubo\n",
    "a3= n1 + (n1 * 3)\n",
    "c3= (n3 ** 3)\n",
    "print(a3 + c3)"
   ]
  },
  {
   "cell_type": "code",
   "execution_count": null,
   "metadata": {},
   "outputs": [],
   "source": [
    "#2) Faça um Programa que peça dois números e imprima o maior deles.\n",
    "n1= int(input(\"Digite um número:\"))\n",
    "n2= int(input(\"Digite um segundo número:\"))\n",
    "if (n1>= n2):\n",
    "    print(n1)\n",
    "else:\n",
    "    print (n2)"
   ]
  },
  {
   "cell_type": "code",
   "execution_count": null,
   "metadata": {},
   "outputs": [],
   "source": [
    "# 3) Faça um Programa que peça um valor e mostre na tela se o valor é positivo ou negativo.\n",
    "if numero > 0:\n",
    "  print(\"O número\", numero, \"é positivo.\")\n",
    "# Verificando se o número é negativo\n",
    "elif numero < 0:\n",
    "  print(\"O número\", numero, \"é negativo.\")\n",
    "# Caso o número seja zero\n",
    "else:\n",
    "  print(\"O número\", numero, \"é zero.\")\n"
   ]
  },
  {
   "cell_type": "code",
   "execution_count": null,
   "metadata": {},
   "outputs": [],
   "source": [
    "#4) Faça um programa para a leitura de duas notas parciais de um aluno. O programa deve calcular a média alcançada por aluno e apresentar o resultado \"Aprovado\" ou \"Reprovado\". Considere que a escola adota média 7.00.\n",
    "\n",
    "n1 = float(input(\"Digite a primeira nota parcial: \"))\n",
    "n2 = float(input(\"Digite a segunda nota parcial: \"))\n",
    "\n",
    "media = (n1 + n2) / 2\n",
    "if media >= 7.0:\n",
    "  resultado = \"Aprovado\"\n",
    "else:\n",
    "  resultado = \"Reprovado\"\n",
    "print(\"O aluno obteve média\", media, \"e está\", resultado, \".\")\n"
   ]
  },
  {
   "cell_type": "code",
   "execution_count": null,
   "metadata": {},
   "outputs": [],
   "source": [
    "#5)Faça um Programa que leia três números e mostre o maior deles.\n",
    "n1 = float(input(\"Digite o primeiro número: \"))\n",
    "n2 = float(input(\"Digite o segundo número: \"))\n",
    "n3 = float(input(\"Digite o terceiro número: \"))\n",
    "\n",
    "maior = numero1\n",
    "if n2 > maior:\n",
    "  maior = n2\n",
    "if n > maior:\n",
    "  maior = n3\n",
    "print(\"O maior número é\", maior)\n"
   ]
  }
 ],
 "metadata": {
  "language_info": {
   "name": "python"
  },
  "orig_nbformat": 4
 },
 "nbformat": 4,
 "nbformat_minor": 2
}
